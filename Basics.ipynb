{
 "cells": [
  {
   "cell_type": "markdown",
   "metadata": {},
   "source": [
    "<h1>Welcome to \"Learn with Me: Kotlin\"</h1>\n",
    "<p>\n",
    "Ready to embark on a journey into the world of Kotlin?! This is an attempt to learn and teach back the things i have learnt from the internet. As feynman once said \"The best way to learn is to teach\" so, even if you are a complete beginner like me, you'll be able to understand the language in itself and find valuable insights and practical knowledge in this expedition.\n",
    "<p>"
   ]
  },
  {
   "cell_type": "markdown",
   "metadata": {},
   "source": [
    "<h1> 1. Writing Your First Kotlin Program </h1>\n",
    "<p>\n",
    "In this section, we'll be exploring the basics of writing a program in Kotlin.\n",
    "Before we start discussing about datatypes and variables and many other components we must first know how a program of kotlin is executed by the compiler.\n",
    "</p>\n",
    "<h3>Look at the sample code given below</h3>"
   ]
  },
  {
   "cell_type": "code",
   "metadata": {
    "ExecuteTime": {
     "end_time": "2025-01-28T17:41:32.628797300Z",
     "start_time": "2025-01-28T17:41:32.389668100Z"
    }
   },
   "source": [
    "// code 1.1\n",
    "fun main() {\n",
    "    println(\"Hello World!\")\n",
    "}"
   ],
   "outputs": [],
   "execution_count": 1
  },
  {
   "cell_type": "markdown",
   "metadata": {},
   "source": [
    "<p>\n",
    "The code given above can be thought of as having a few parts\n",
    "<ol>\n",
    "<li><code style=\"font-style: italic;\">fun</code> keyword</li>\n",
    "<li><code style=\"font-style: italic;\">main()</code> as a \"identifier\" of a function</li>\n",
    "<li><code style=\"font-style: italic;\">println()</code> function </li>\n",
    "</ol>\n",
    "so you might be wondering what are these <code style=\"font-style: italic;\">functions, keywords and identifiers</code>\n",
    "</p>"
   ]
  },
  {
   "cell_type": "markdown",
   "metadata": {},
   "source": [
    "<p>\n",
    "A computer cannot understand english it can only understand binary (ie: 0s and 1s). So to convert the code that you have written into binary we use a compiler.\n",
    "\n",
    "By definition, a computer program that automatically translates an entire set of instructions written in a computer programming language into machine language (Binary). So, we define a few words in the compiler and say that \"this word = do this action.\" In programming terms, we call these words keywords.\n",
    "\n",
    "Sometimes we say to the compiler that \"if I tell you a specific name or command that i have created (or the ones you (the compiler) have predefined) and give you some inputs for that command, do a specified action for me.\" These words that trigger these actions are called functions. These are really useful in practice, and we use them all the time (because we are lazy) so that we can reuse the code we have written once.\n",
    "\n",
    "So, in order to \"define\" a function, we use the keyword named <code style=\"font-style: italic;\">fun</code>.\n",
    "</p>"
   ]
  },
  {
   "cell_type": "markdown",
   "metadata": {},
   "source": [
    "<p>\n",
    "In code 1.1, we have used a special function called <code style=\"font-style: italic;\">main()</code>. This is the function that is looked for by the compiler when compiling a program.\n",
    "\n",
    "The compiler then ONLY executes the code inside the <code style=\"font-style: italic;\">main()</code> function, and if specified, it will display the output on the screen.\n",
    "</p>"
   ]
  },
  {
   "cell_type": "markdown",
   "metadata": {},
   "source": [
    "<p>\n",
    "So in every program you write you must have the  <code style=\"font-style: italic;\">main()</code> function else you wont be able to execute it all.\n",
    "\n",
    "Run the code 1.1 and find the output:\n",
    "(click on the ▶️ near the code cell)\n",
    "\n",
    "It would look something like:\n",
    "<code>\n",
    "Hello World!\n",
    "</code>\n",
    "</p>"
   ]
  },
  {
   "cell_type": "markdown",
   "metadata": {},
   "source": [
    "<h1>2.Printing Your Output</h1>\n",
    "<p>\n",
    "the next thing you would have noticed is that you have a function named println(). This is one of the inbulit functions and is also one of the most used functions in kotlin. This is because it is used to display the whatever that we give in the braces.\n",
    "This process of displaying content in the console is called printing. its like a printer that prints whatever you give on paper but instead, here the screen acts as the paper.\n",
    "\n",
    "there are two basic functions that can \"print\":\n",
    "<ul>\n",
    "<li> <code style=\"font-style: italic;\">println()</code></li>\n",
    "<li> <code style=\"font-style: italic;\">print()</code></li>\n",
    "</ul>\n",
    "</p>"
   ]
  },
  {
   "cell_type": "code",
   "metadata": {
    "ExecuteTime": {
     "end_time": "2025-01-28T17:41:38.616339800Z",
     "start_time": "2025-01-28T17:41:33.013257200Z"
    }
   },
   "source": [
    "// code 1.2\n",
    "fun main() {\n",
    "    println(\"Hello \")\n",
    "    println(\"World!\")\n",
    "    print(\"Hello \")\n",
    "    print(\"World!\")\n",
    "}"
   ],
   "outputs": [],
   "execution_count": 3
  },
  {
   "cell_type": "markdown",
   "metadata": {},
   "source": [
    "<p>\n",
    "The output is like:\n",
    "<samp>\n",
    "<br />\n",
    "<br />\n",
    "Hello <br />\n",
    "World! <br />\n",
    "Hello World!\n",
    "</samp>\n",
    "\n",
    "You would have noticed that the next output is pushed to the next line after using `println()` but it is not so in the case of `print()`.\n",
    "\n",
    "This is because the function `print()` doesn't have the newline (`\\n`) character as the ending character; rather, it has no ending character explicitly mentioned.\n",
    "\n",
    "So essentially, the output of `println(\"text\")` is the same as `print(\"text\\n\")`.\n",
    "\n",
    "(The `\\n` is called a newline escape sequence; we will delve into this more in the later modules.)\n",
    "</p>"
   ]
  }
 ],
 "metadata": {
  "kernelspec": {
   "display_name": "Kotlin",
   "language": "kotlin",
   "name": "kotlin"
  },
  "language_info": {
   "codemirror_mode": "text/x-kotlin",
   "file_extension": ".kt",
   "mimetype": "text/x-kotlin",
   "name": "kotlin",
   "nbconvert_exporter": "",
   "pygments_lexer": "kotlin",
   "version": "1.9.23"
  }
 },
 "nbformat": 4,
 "nbformat_minor": 0
}
